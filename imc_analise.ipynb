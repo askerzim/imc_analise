{
  "nbformat": 4,
  "nbformat_minor": 0,
  "metadata": {
    "colab": {
      "provenance": [],
      "authorship_tag": "ABX9TyMcwL50TUzrNxpXIAcPV29b",
      "include_colab_link": true
    },
    "kernelspec": {
      "name": "python3",
      "display_name": "Python 3"
    },
    "language_info": {
      "name": "python"
    }
  },
  "cells": [
    {
      "cell_type": "markdown",
      "metadata": {
        "id": "view-in-github",
        "colab_type": "text"
      },
      "source": [
        "<a href=\"https://colab.research.google.com/github/askerzim/imc_analise/blob/main/imc_analise.ipynb\" target=\"_parent\"><img src=\"https://colab.research.google.com/assets/colab-badge.svg\" alt=\"Open In Colab\"/></a>"
      ]
    },
    {
      "cell_type": "markdown",
      "source": [
        "# **Aula 23 -Projeto Multidisciplinar**\n",
        "\n",
        "O Projeto Multidisciplinar I consiste na simulação de dados envolvendo pesos e alturas de indivíduos, calculando o IMC (índice de Massa Corporal) e relacionando com dados simulados sobre existência de problemas cardíacos. A simulação deverá contar com dados pseudoaleatórios gerados por simulação computacional e deverá haver correspondência entre problemas cardiácos com a medida do IMC. Ou seja, iremos supor que exista uma correspondência óbvia entre as medidas (modelada matematicamente por equção e coeificentes arbitrariamente definidos). Para cada sexo (sendo eles definidos de forma aleatória).\n",
        "\n",
        "Você, portanto, simulará via randomização (aleatoriedade) as alturas dentro de uma faixa bem definida. Em seguida, aplicará uma equação que determine, com algum grau de aleatoriedade, os pesos dos indivíduos. Logo depois, calculará o IMC e definirá para cada indivíduo a existência (sim ou não) de problemas cardiácos, ambos com algum grau mnimo de correspondência com o IMC.\n",
        "\n",
        "Ao final, faça as análises necessárias com medidas de dispersão e de tendência central. Crie as funções para tal. E interprete os IMCs obtido conforme WHO (Organização Mundial da Saúde).\n",
        "\n",
        "Os dados devem estar reunidos em uma tabela. Todas as técnicas aplicadas aqui são vistas na Aula 22.\n"
      ],
      "metadata": {
        "id": "4pScTBW5vi_D"
      }
    },
    {
      "cell_type": "markdown",
      "source": [
        "**Tamanho da Amostra**"
      ],
      "metadata": {
        "id": "cXi7Kj-3vwLD"
      }
    },
    {
      "cell_type": "code",
      "execution_count": null,
      "metadata": {
        "id": "xAGzsMmVvgXC"
      },
      "outputs": [],
      "source": [
        "n = 2000"
      ]
    },
    {
      "cell_type": "code",
      "source": [
        "import numpy as np\n",
        "#Gere valores de altura a partir de: media 1.75; desvio padrão 0.30 e para uma amostra de 2000 pessoas\n",
        "altura = np.random.normal(1.75,0.30, 2000)\n",
        "altura"
      ],
      "metadata": {
        "colab": {
          "base_uri": "https://localhost:8080/"
        },
        "id": "SiB7K2Yqv3fb",
        "outputId": "3063190a-2a9d-4ae0-9616-e118bd8383b8"
      },
      "execution_count": null,
      "outputs": [
        {
          "output_type": "execute_result",
          "data": {
            "text/plain": [
              "array([1.93097045, 1.84467619, 2.19484643, ..., 1.92531183, 1.91996395,\n",
              "       1.15907797])"
            ]
          },
          "metadata": {},
          "execution_count": 2
        }
      ]
    },
    {
      "cell_type": "code",
      "source": [
        "#gerando lista a partir do array\n",
        "altura = altura.tolist()"
      ],
      "metadata": {
        "id": "gmtlwPncwYaf"
      },
      "execution_count": null,
      "outputs": []
    },
    {
      "cell_type": "code",
      "source": [
        "from sympy import *\n",
        "x1 = symbols('altura_i')\n",
        "x2 = symbols('aleatorio_i') #altura em i\n",
        "peso_i = x1*50 + x2 #x2 varia no inteervalo de -5 a 5 e segue uma distribuição uniforme\n",
        "peso_i"
      ],
      "metadata": {
        "colab": {
          "base_uri": "https://localhost:8080/",
          "height": 38
        },
        "id": "hx92qyrawhCv",
        "outputId": "ed74ff97-1b3b-4610-c707-c3c75f5331d4"
      },
      "execution_count": null,
      "outputs": [
        {
          "output_type": "execute_result",
          "data": {
            "text/plain": [
              "aleatorio_i + 50*altura_i"
            ],
            "text/latex": "$\\displaystyle aleatorio_{i} + 50 altura_{i}$"
          },
          "metadata": {},
          "execution_count": 7
        }
      ]
    },
    {
      "cell_type": "code",
      "source": [
        "import random\n",
        "peso=[]\n",
        "for i in altura:\n",
        "    a = round(float(random.uniform(-5, 5)), 2)\n",
        "    b = 50*i\n",
        "    c = a + b\n",
        "    peso.append(c)\n",
        "\n",
        "len(peso)"
      ],
      "metadata": {
        "colab": {
          "base_uri": "https://localhost:8080/"
        },
        "id": "2-HiXQFKw5Ji",
        "outputId": "5e197a0c-33a9-4074-a497-e86394f6e213"
      },
      "execution_count": null,
      "outputs": [
        {
          "output_type": "execute_result",
          "data": {
            "text/plain": [
              "2000"
            ]
          },
          "metadata": {},
          "execution_count": 11
        }
      ]
    },
    {
      "cell_type": "markdown",
      "source": [
        "# **Gerando IMC**"
      ],
      "metadata": {
        "id": "MNo1g7MNxis1"
      }
    },
    {
      "cell_type": "code",
      "source": [
        "peso1, altura1 = symbols(['peso', 'altura'])\n",
        "IMC_formula = peso1/(altura1**2)\n",
        "IMC_formula"
      ],
      "metadata": {
        "colab": {
          "base_uri": "https://localhost:8080/",
          "height": 47
        },
        "id": "smLvHkXgxlCH",
        "outputId": "0d3217c7-90cf-4cc3-ee93-cb13571696a3"
      },
      "execution_count": null,
      "outputs": [
        {
          "output_type": "execute_result",
          "data": {
            "text/plain": [
              "peso/altura**2"
            ],
            "text/latex": "$\\displaystyle \\frac{peso}{altura^{2}}$"
          },
          "metadata": {},
          "execution_count": 12
        }
      ]
    },
    {
      "cell_type": "code",
      "source": [
        "IMC = []\n",
        "for i, j in zip(peso, altura):\n",
        "    e = i / (j**2)\n",
        "    e = round(e, 2)\n",
        "    IMC.append(e)"
      ],
      "metadata": {
        "id": "ctWz83ImxyrE"
      },
      "execution_count": null,
      "outputs": []
    },
    {
      "cell_type": "code",
      "source": [
        "#IMC\n",
        "len(IMC)"
      ],
      "metadata": {
        "colab": {
          "base_uri": "https://localhost:8080/"
        },
        "collapsed": true,
        "id": "452yC687x_BV",
        "outputId": "3fa34c47-2947-45a6-de85-1141bef1b55a"
      },
      "execution_count": null,
      "outputs": [
        {
          "output_type": "execute_result",
          "data": {
            "text/plain": [
              "2000"
            ]
          },
          "metadata": {},
          "execution_count": 20
        }
      ]
    },
    {
      "cell_type": "markdown",
      "source": [
        "**Gerando sexo de forma aleatória**"
      ],
      "metadata": {
        "id": "VhZ44ML0ygvO"
      }
    },
    {
      "cell_type": "code",
      "source": [
        "SEXO = []\n",
        "for i in range(0,2000):\n",
        "  valor  = np.random.uniform(0,1) #gere valores entre 0 e 1 de forma aleatoria e de maneira uniforme\n",
        "  if valor < 0.5:\n",
        "    SEXO.append('M')\n",
        "  else:\n",
        "    SEXO.append('F')\n",
        "\n",
        "#len(SEXO)"
      ],
      "metadata": {
        "colab": {
          "base_uri": "https://localhost:8080/"
        },
        "id": "lqu5-JVlyoas",
        "outputId": "4ff1d6ff-3a4e-4d85-fe92-42094fb5c034"
      },
      "execution_count": null,
      "outputs": [
        {
          "output_type": "execute_result",
          "data": {
            "text/plain": [
              "2000"
            ]
          },
          "metadata": {},
          "execution_count": 24
        }
      ]
    },
    {
      "cell_type": "markdown",
      "source": [
        "**Gerando correspondência com valores cardiacos**"
      ],
      "metadata": {
        "id": "GVtIzUR9zMB2"
      }
    },
    {
      "cell_type": "code",
      "source": [
        "#S = sim\n",
        "#P = provavel\n",
        "#N = Não\n",
        "CARDIACO = []\n",
        "for i in range(0,2000):\n",
        "  if IMC[i] > 40:\n",
        "    CARDIACO.append('S')\n",
        "  elif IMC[i] > 30 and IMC[i] < 40:\n",
        "    CARDIACO.append('P')\n",
        "  else:\n",
        "    CARDIACO.append('N')\n",
        "len(CARDIACO)\n"
      ],
      "metadata": {
        "colab": {
          "base_uri": "https://localhost:8080/"
        },
        "id": "79XcbMJPzQdf",
        "outputId": "f47d561c-65f7-4154-8d9b-3b6138cad2ce"
      },
      "execution_count": null,
      "outputs": [
        {
          "output_type": "execute_result",
          "data": {
            "text/plain": [
              "2000"
            ]
          },
          "metadata": {},
          "execution_count": 26
        }
      ]
    },
    {
      "cell_type": "markdown",
      "source": [
        "**Gerando uma tabela final de dados**"
      ],
      "metadata": {
        "id": "OtNxlqyJ0GgY"
      }
    },
    {
      "cell_type": "code",
      "source": [
        "# Z será minha variávle que irei guardar minhas listas geradas até agora\n",
        "z = altura, peso, IMC, SEXO, CARDIACO\n",
        "len(z)"
      ],
      "metadata": {
        "colab": {
          "base_uri": "https://localhost:8080/"
        },
        "id": "Lpr9o_LW0GUv",
        "outputId": "6f9a4617-458c-4434-db57-1bbcafd40e79"
      },
      "execution_count": null,
      "outputs": [
        {
          "output_type": "execute_result",
          "data": {
            "text/plain": [
              "5"
            ]
          },
          "metadata": {},
          "execution_count": 27
        }
      ]
    },
    {
      "cell_type": "code",
      "source": [
        "import pandas as pd\n",
        "df = pd.DataFrame(z, index = ['altura', 'peso', 'IMC', 'SEXO', 'CARDIACO']).T #.T é uma função que deixa o DataFrame de uma maneira transposta\n",
        "df"
      ],
      "metadata": {
        "colab": {
          "base_uri": "https://localhost:8080/",
          "height": 424
        },
        "id": "poF780TT0Z8-",
        "outputId": "6f21266f-ddc3-45b2-e811-459978409084"
      },
      "execution_count": null,
      "outputs": [
        {
          "output_type": "execute_result",
          "data": {
            "text/plain": [
              "        altura        peso    IMC SEXO CARDIACO\n",
              "0      1.93097   99.618523  26.72    F        N\n",
              "1     1.844676    87.57381  25.74    M        N\n",
              "2     2.194846  112.872322  23.43    M        N\n",
              "3      1.69154   81.506983  28.49    M        N\n",
              "4     1.494999   70.819956  31.69    F        P\n",
              "...        ...         ...    ...  ...      ...\n",
              "1995  1.392433   65.311642  33.69    M        P\n",
              "1996  1.496058   74.842923  33.44    M        P\n",
              "1997  1.925312   96.755592   26.1    F        N\n",
              "1998  1.919964   98.448198  26.71    M        N\n",
              "1999  1.159078   58.913898  43.85    M        S\n",
              "\n",
              "[2000 rows x 5 columns]"
            ],
            "text/html": [
              "\n",
              "  <div id=\"df-79cebffd-e1d5-45ed-afc6-c6cb6a0e04d3\" class=\"colab-df-container\">\n",
              "    <div>\n",
              "<style scoped>\n",
              "    .dataframe tbody tr th:only-of-type {\n",
              "        vertical-align: middle;\n",
              "    }\n",
              "\n",
              "    .dataframe tbody tr th {\n",
              "        vertical-align: top;\n",
              "    }\n",
              "\n",
              "    .dataframe thead th {\n",
              "        text-align: right;\n",
              "    }\n",
              "</style>\n",
              "<table border=\"1\" class=\"dataframe\">\n",
              "  <thead>\n",
              "    <tr style=\"text-align: right;\">\n",
              "      <th></th>\n",
              "      <th>altura</th>\n",
              "      <th>peso</th>\n",
              "      <th>IMC</th>\n",
              "      <th>SEXO</th>\n",
              "      <th>CARDIACO</th>\n",
              "    </tr>\n",
              "  </thead>\n",
              "  <tbody>\n",
              "    <tr>\n",
              "      <th>0</th>\n",
              "      <td>1.93097</td>\n",
              "      <td>99.618523</td>\n",
              "      <td>26.72</td>\n",
              "      <td>F</td>\n",
              "      <td>N</td>\n",
              "    </tr>\n",
              "    <tr>\n",
              "      <th>1</th>\n",
              "      <td>1.844676</td>\n",
              "      <td>87.57381</td>\n",
              "      <td>25.74</td>\n",
              "      <td>M</td>\n",
              "      <td>N</td>\n",
              "    </tr>\n",
              "    <tr>\n",
              "      <th>2</th>\n",
              "      <td>2.194846</td>\n",
              "      <td>112.872322</td>\n",
              "      <td>23.43</td>\n",
              "      <td>M</td>\n",
              "      <td>N</td>\n",
              "    </tr>\n",
              "    <tr>\n",
              "      <th>3</th>\n",
              "      <td>1.69154</td>\n",
              "      <td>81.506983</td>\n",
              "      <td>28.49</td>\n",
              "      <td>M</td>\n",
              "      <td>N</td>\n",
              "    </tr>\n",
              "    <tr>\n",
              "      <th>4</th>\n",
              "      <td>1.494999</td>\n",
              "      <td>70.819956</td>\n",
              "      <td>31.69</td>\n",
              "      <td>F</td>\n",
              "      <td>P</td>\n",
              "    </tr>\n",
              "    <tr>\n",
              "      <th>...</th>\n",
              "      <td>...</td>\n",
              "      <td>...</td>\n",
              "      <td>...</td>\n",
              "      <td>...</td>\n",
              "      <td>...</td>\n",
              "    </tr>\n",
              "    <tr>\n",
              "      <th>1995</th>\n",
              "      <td>1.392433</td>\n",
              "      <td>65.311642</td>\n",
              "      <td>33.69</td>\n",
              "      <td>M</td>\n",
              "      <td>P</td>\n",
              "    </tr>\n",
              "    <tr>\n",
              "      <th>1996</th>\n",
              "      <td>1.496058</td>\n",
              "      <td>74.842923</td>\n",
              "      <td>33.44</td>\n",
              "      <td>M</td>\n",
              "      <td>P</td>\n",
              "    </tr>\n",
              "    <tr>\n",
              "      <th>1997</th>\n",
              "      <td>1.925312</td>\n",
              "      <td>96.755592</td>\n",
              "      <td>26.1</td>\n",
              "      <td>F</td>\n",
              "      <td>N</td>\n",
              "    </tr>\n",
              "    <tr>\n",
              "      <th>1998</th>\n",
              "      <td>1.919964</td>\n",
              "      <td>98.448198</td>\n",
              "      <td>26.71</td>\n",
              "      <td>M</td>\n",
              "      <td>N</td>\n",
              "    </tr>\n",
              "    <tr>\n",
              "      <th>1999</th>\n",
              "      <td>1.159078</td>\n",
              "      <td>58.913898</td>\n",
              "      <td>43.85</td>\n",
              "      <td>M</td>\n",
              "      <td>S</td>\n",
              "    </tr>\n",
              "  </tbody>\n",
              "</table>\n",
              "<p>2000 rows × 5 columns</p>\n",
              "</div>\n",
              "    <div class=\"colab-df-buttons\">\n",
              "\n",
              "  <div class=\"colab-df-container\">\n",
              "    <button class=\"colab-df-convert\" onclick=\"convertToInteractive('df-79cebffd-e1d5-45ed-afc6-c6cb6a0e04d3')\"\n",
              "            title=\"Convert this dataframe to an interactive table.\"\n",
              "            style=\"display:none;\">\n",
              "\n",
              "  <svg xmlns=\"http://www.w3.org/2000/svg\" height=\"24px\" viewBox=\"0 -960 960 960\">\n",
              "    <path d=\"M120-120v-720h720v720H120Zm60-500h600v-160H180v160Zm220 220h160v-160H400v160Zm0 220h160v-160H400v160ZM180-400h160v-160H180v160Zm440 0h160v-160H620v160ZM180-180h160v-160H180v160Zm440 0h160v-160H620v160Z\"/>\n",
              "  </svg>\n",
              "    </button>\n",
              "\n",
              "  <style>\n",
              "    .colab-df-container {\n",
              "      display:flex;\n",
              "      gap: 12px;\n",
              "    }\n",
              "\n",
              "    .colab-df-convert {\n",
              "      background-color: #E8F0FE;\n",
              "      border: none;\n",
              "      border-radius: 50%;\n",
              "      cursor: pointer;\n",
              "      display: none;\n",
              "      fill: #1967D2;\n",
              "      height: 32px;\n",
              "      padding: 0 0 0 0;\n",
              "      width: 32px;\n",
              "    }\n",
              "\n",
              "    .colab-df-convert:hover {\n",
              "      background-color: #E2EBFA;\n",
              "      box-shadow: 0px 1px 2px rgba(60, 64, 67, 0.3), 0px 1px 3px 1px rgba(60, 64, 67, 0.15);\n",
              "      fill: #174EA6;\n",
              "    }\n",
              "\n",
              "    .colab-df-buttons div {\n",
              "      margin-bottom: 4px;\n",
              "    }\n",
              "\n",
              "    [theme=dark] .colab-df-convert {\n",
              "      background-color: #3B4455;\n",
              "      fill: #D2E3FC;\n",
              "    }\n",
              "\n",
              "    [theme=dark] .colab-df-convert:hover {\n",
              "      background-color: #434B5C;\n",
              "      box-shadow: 0px 1px 3px 1px rgba(0, 0, 0, 0.15);\n",
              "      filter: drop-shadow(0px 1px 2px rgba(0, 0, 0, 0.3));\n",
              "      fill: #FFFFFF;\n",
              "    }\n",
              "  </style>\n",
              "\n",
              "    <script>\n",
              "      const buttonEl =\n",
              "        document.querySelector('#df-79cebffd-e1d5-45ed-afc6-c6cb6a0e04d3 button.colab-df-convert');\n",
              "      buttonEl.style.display =\n",
              "        google.colab.kernel.accessAllowed ? 'block' : 'none';\n",
              "\n",
              "      async function convertToInteractive(key) {\n",
              "        const element = document.querySelector('#df-79cebffd-e1d5-45ed-afc6-c6cb6a0e04d3');\n",
              "        const dataTable =\n",
              "          await google.colab.kernel.invokeFunction('convertToInteractive',\n",
              "                                                    [key], {});\n",
              "        if (!dataTable) return;\n",
              "\n",
              "        const docLinkHtml = 'Like what you see? Visit the ' +\n",
              "          '<a target=\"_blank\" href=https://colab.research.google.com/notebooks/data_table.ipynb>data table notebook</a>'\n",
              "          + ' to learn more about interactive tables.';\n",
              "        element.innerHTML = '';\n",
              "        dataTable['output_type'] = 'display_data';\n",
              "        await google.colab.output.renderOutput(dataTable, element);\n",
              "        const docLink = document.createElement('div');\n",
              "        docLink.innerHTML = docLinkHtml;\n",
              "        element.appendChild(docLink);\n",
              "      }\n",
              "    </script>\n",
              "  </div>\n",
              "\n",
              "\n",
              "<div id=\"df-30398ec5-ff51-4148-89c7-bae54f4535c1\">\n",
              "  <button class=\"colab-df-quickchart\" onclick=\"quickchart('df-30398ec5-ff51-4148-89c7-bae54f4535c1')\"\n",
              "            title=\"Suggest charts\"\n",
              "            style=\"display:none;\">\n",
              "\n",
              "<svg xmlns=\"http://www.w3.org/2000/svg\" height=\"24px\"viewBox=\"0 0 24 24\"\n",
              "     width=\"24px\">\n",
              "    <g>\n",
              "        <path d=\"M19 3H5c-1.1 0-2 .9-2 2v14c0 1.1.9 2 2 2h14c1.1 0 2-.9 2-2V5c0-1.1-.9-2-2-2zM9 17H7v-7h2v7zm4 0h-2V7h2v10zm4 0h-2v-4h2v4z\"/>\n",
              "    </g>\n",
              "</svg>\n",
              "  </button>\n",
              "\n",
              "<style>\n",
              "  .colab-df-quickchart {\n",
              "      --bg-color: #E8F0FE;\n",
              "      --fill-color: #1967D2;\n",
              "      --hover-bg-color: #E2EBFA;\n",
              "      --hover-fill-color: #174EA6;\n",
              "      --disabled-fill-color: #AAA;\n",
              "      --disabled-bg-color: #DDD;\n",
              "  }\n",
              "\n",
              "  [theme=dark] .colab-df-quickchart {\n",
              "      --bg-color: #3B4455;\n",
              "      --fill-color: #D2E3FC;\n",
              "      --hover-bg-color: #434B5C;\n",
              "      --hover-fill-color: #FFFFFF;\n",
              "      --disabled-bg-color: #3B4455;\n",
              "      --disabled-fill-color: #666;\n",
              "  }\n",
              "\n",
              "  .colab-df-quickchart {\n",
              "    background-color: var(--bg-color);\n",
              "    border: none;\n",
              "    border-radius: 50%;\n",
              "    cursor: pointer;\n",
              "    display: none;\n",
              "    fill: var(--fill-color);\n",
              "    height: 32px;\n",
              "    padding: 0;\n",
              "    width: 32px;\n",
              "  }\n",
              "\n",
              "  .colab-df-quickchart:hover {\n",
              "    background-color: var(--hover-bg-color);\n",
              "    box-shadow: 0 1px 2px rgba(60, 64, 67, 0.3), 0 1px 3px 1px rgba(60, 64, 67, 0.15);\n",
              "    fill: var(--button-hover-fill-color);\n",
              "  }\n",
              "\n",
              "  .colab-df-quickchart-complete:disabled,\n",
              "  .colab-df-quickchart-complete:disabled:hover {\n",
              "    background-color: var(--disabled-bg-color);\n",
              "    fill: var(--disabled-fill-color);\n",
              "    box-shadow: none;\n",
              "  }\n",
              "\n",
              "  .colab-df-spinner {\n",
              "    border: 2px solid var(--fill-color);\n",
              "    border-color: transparent;\n",
              "    border-bottom-color: var(--fill-color);\n",
              "    animation:\n",
              "      spin 1s steps(1) infinite;\n",
              "  }\n",
              "\n",
              "  @keyframes spin {\n",
              "    0% {\n",
              "      border-color: transparent;\n",
              "      border-bottom-color: var(--fill-color);\n",
              "      border-left-color: var(--fill-color);\n",
              "    }\n",
              "    20% {\n",
              "      border-color: transparent;\n",
              "      border-left-color: var(--fill-color);\n",
              "      border-top-color: var(--fill-color);\n",
              "    }\n",
              "    30% {\n",
              "      border-color: transparent;\n",
              "      border-left-color: var(--fill-color);\n",
              "      border-top-color: var(--fill-color);\n",
              "      border-right-color: var(--fill-color);\n",
              "    }\n",
              "    40% {\n",
              "      border-color: transparent;\n",
              "      border-right-color: var(--fill-color);\n",
              "      border-top-color: var(--fill-color);\n",
              "    }\n",
              "    60% {\n",
              "      border-color: transparent;\n",
              "      border-right-color: var(--fill-color);\n",
              "    }\n",
              "    80% {\n",
              "      border-color: transparent;\n",
              "      border-right-color: var(--fill-color);\n",
              "      border-bottom-color: var(--fill-color);\n",
              "    }\n",
              "    90% {\n",
              "      border-color: transparent;\n",
              "      border-bottom-color: var(--fill-color);\n",
              "    }\n",
              "  }\n",
              "</style>\n",
              "\n",
              "  <script>\n",
              "    async function quickchart(key) {\n",
              "      const quickchartButtonEl =\n",
              "        document.querySelector('#' + key + ' button');\n",
              "      quickchartButtonEl.disabled = true;  // To prevent multiple clicks.\n",
              "      quickchartButtonEl.classList.add('colab-df-spinner');\n",
              "      try {\n",
              "        const charts = await google.colab.kernel.invokeFunction(\n",
              "            'suggestCharts', [key], {});\n",
              "      } catch (error) {\n",
              "        console.error('Error during call to suggestCharts:', error);\n",
              "      }\n",
              "      quickchartButtonEl.classList.remove('colab-df-spinner');\n",
              "      quickchartButtonEl.classList.add('colab-df-quickchart-complete');\n",
              "    }\n",
              "    (() => {\n",
              "      let quickchartButtonEl =\n",
              "        document.querySelector('#df-30398ec5-ff51-4148-89c7-bae54f4535c1 button');\n",
              "      quickchartButtonEl.style.display =\n",
              "        google.colab.kernel.accessAllowed ? 'block' : 'none';\n",
              "    })();\n",
              "  </script>\n",
              "</div>\n",
              "\n",
              "  <div id=\"id_222ed061-aab1-4bb6-9bec-1fe471530c11\">\n",
              "    <style>\n",
              "      .colab-df-generate {\n",
              "        background-color: #E8F0FE;\n",
              "        border: none;\n",
              "        border-radius: 50%;\n",
              "        cursor: pointer;\n",
              "        display: none;\n",
              "        fill: #1967D2;\n",
              "        height: 32px;\n",
              "        padding: 0 0 0 0;\n",
              "        width: 32px;\n",
              "      }\n",
              "\n",
              "      .colab-df-generate:hover {\n",
              "        background-color: #E2EBFA;\n",
              "        box-shadow: 0px 1px 2px rgba(60, 64, 67, 0.3), 0px 1px 3px 1px rgba(60, 64, 67, 0.15);\n",
              "        fill: #174EA6;\n",
              "      }\n",
              "\n",
              "      [theme=dark] .colab-df-generate {\n",
              "        background-color: #3B4455;\n",
              "        fill: #D2E3FC;\n",
              "      }\n",
              "\n",
              "      [theme=dark] .colab-df-generate:hover {\n",
              "        background-color: #434B5C;\n",
              "        box-shadow: 0px 1px 3px 1px rgba(0, 0, 0, 0.15);\n",
              "        filter: drop-shadow(0px 1px 2px rgba(0, 0, 0, 0.3));\n",
              "        fill: #FFFFFF;\n",
              "      }\n",
              "    </style>\n",
              "    <button class=\"colab-df-generate\" onclick=\"generateWithVariable('df')\"\n",
              "            title=\"Generate code using this dataframe.\"\n",
              "            style=\"display:none;\">\n",
              "\n",
              "  <svg xmlns=\"http://www.w3.org/2000/svg\" height=\"24px\"viewBox=\"0 0 24 24\"\n",
              "       width=\"24px\">\n",
              "    <path d=\"M7,19H8.4L18.45,9,17,7.55,7,17.6ZM5,21V16.75L18.45,3.32a2,2,0,0,1,2.83,0l1.4,1.43a1.91,1.91,0,0,1,.58,1.4,1.91,1.91,0,0,1-.58,1.4L9.25,21ZM18.45,9,17,7.55Zm-12,3A5.31,5.31,0,0,0,4.9,8.1,5.31,5.31,0,0,0,1,6.5,5.31,5.31,0,0,0,4.9,4.9,5.31,5.31,0,0,0,6.5,1,5.31,5.31,0,0,0,8.1,4.9,5.31,5.31,0,0,0,12,6.5,5.46,5.46,0,0,0,6.5,12Z\"/>\n",
              "  </svg>\n",
              "    </button>\n",
              "    <script>\n",
              "      (() => {\n",
              "      const buttonEl =\n",
              "        document.querySelector('#id_222ed061-aab1-4bb6-9bec-1fe471530c11 button.colab-df-generate');\n",
              "      buttonEl.style.display =\n",
              "        google.colab.kernel.accessAllowed ? 'block' : 'none';\n",
              "\n",
              "      buttonEl.onclick = () => {\n",
              "        google.colab.notebook.generateWithVariable('df');\n",
              "      }\n",
              "      })();\n",
              "    </script>\n",
              "  </div>\n",
              "\n",
              "    </div>\n",
              "  </div>\n"
            ],
            "application/vnd.google.colaboratory.intrinsic+json": {
              "type": "dataframe",
              "variable_name": "df",
              "summary": "{\n  \"name\": \"df\",\n  \"rows\": 2000,\n  \"fields\": [\n    {\n      \"column\": \"altura\",\n      \"properties\": {\n        \"dtype\": \"date\",\n        \"min\": 0.7738360350038037,\n        \"max\": 2.720024740780148,\n        \"num_unique_values\": 2000,\n        \"samples\": [\n          2.0279456791499078,\n          2.041873999402342,\n          2.271775590539027\n        ],\n        \"semantic_type\": \"\",\n        \"description\": \"\"\n      }\n    },\n    {\n      \"column\": \"peso\",\n      \"properties\": {\n        \"dtype\": \"date\",\n        \"min\": 40.25183399921262,\n        \"max\": 139.6512370390074,\n        \"num_unique_values\": 2000,\n        \"samples\": [\n          98.3772839574954,\n          104.6336999701171,\n          117.39877952695134\n        ],\n        \"semantic_type\": \"\",\n        \"description\": \"\"\n      }\n    },\n    {\n      \"column\": \"IMC\",\n      \"properties\": {\n        \"dtype\": \"date\",\n        \"min\": 18.88,\n        \"max\": 70.51,\n        \"num_unique_values\": 1225,\n        \"samples\": [\n          27.62,\n          33.22,\n          28.95\n        ],\n        \"semantic_type\": \"\",\n        \"description\": \"\"\n      }\n    },\n    {\n      \"column\": \"SEXO\",\n      \"properties\": {\n        \"dtype\": \"category\",\n        \"num_unique_values\": 2,\n        \"samples\": [\n          \"M\",\n          \"F\"\n        ],\n        \"semantic_type\": \"\",\n        \"description\": \"\"\n      }\n    },\n    {\n      \"column\": \"CARDIACO\",\n      \"properties\": {\n        \"dtype\": \"category\",\n        \"num_unique_values\": 3,\n        \"samples\": [\n          \"N\",\n          \"P\"\n        ],\n        \"semantic_type\": \"\",\n        \"description\": \"\"\n      }\n    }\n  ]\n}"
            }
          },
          "metadata": {},
          "execution_count": 29
        }
      ]
    },
    {
      "cell_type": "markdown",
      "source": [
        "# **Medidas de tendência central**"
      ],
      "metadata": {
        "id": "aHhX0_kK1wU0"
      }
    },
    {
      "cell_type": "code",
      "source": [
        "#calculando a média de uma coluna na tabela\n",
        "def media(tabela):\n",
        "  soma =  sum(tabela)\n",
        "  media = soma/len(tabela)\n",
        "  media = round(media, 2)\n",
        "  print(media)"
      ],
      "metadata": {
        "id": "GmztlXKA10Gz"
      },
      "execution_count": null,
      "outputs": []
    },
    {
      "cell_type": "code",
      "source": [
        "media(df.IMC)"
      ],
      "metadata": {
        "colab": {
          "base_uri": "https://localhost:8080/"
        },
        "id": "wrfLAIwi2DHL",
        "outputId": "fd9ab0d2-eacc-4578-ada9-3de80145ce4b"
      },
      "execution_count": null,
      "outputs": [
        {
          "output_type": "stream",
          "name": "stdout",
          "text": [
            "29.35\n"
          ]
        }
      ]
    },
    {
      "cell_type": "code",
      "source": [
        "media(df.peso)"
      ],
      "metadata": {
        "colab": {
          "base_uri": "https://localhost:8080/"
        },
        "id": "MEHdkKVg2NQg",
        "outputId": "34f5b998-db0e-4003-9ac9-c30ac99ae61e"
      },
      "execution_count": null,
      "outputs": [
        {
          "output_type": "stream",
          "name": "stdout",
          "text": [
            "87.52\n"
          ]
        }
      ]
    },
    {
      "cell_type": "code",
      "source": [
        "#Igual a média que definimos da altura no começo do programa\n",
        "media(df.altura)"
      ],
      "metadata": {
        "colab": {
          "base_uri": "https://localhost:8080/"
        },
        "id": "jSv8E50M2Sg_",
        "outputId": "f2a270d0-2607-45df-8728-db70f3f8ac8d"
      },
      "execution_count": null,
      "outputs": [
        {
          "output_type": "stream",
          "name": "stdout",
          "text": [
            "1.75\n"
          ]
        }
      ]
    },
    {
      "cell_type": "markdown",
      "source": [
        "# **Frequência das variáveis qualitativas**"
      ],
      "metadata": {
        "id": "JesYkuWo2YUs"
      }
    },
    {
      "cell_type": "code",
      "source": [
        "#Sexo\n",
        "freq_m = 0\n",
        "freq_f = 0\n",
        "for i in SEXO:\n",
        "  if i == 'M':\n",
        "    freq_m = freq_m + 1\n",
        "  else:\n",
        "    freq_f = freq_f + 1\n",
        "\n",
        "print(f'O percentual de homens é de {round((freq_m/2000*100), 2)}')\n",
        "print(f'O percentual de mulheres é de {round((freq_f/2000*100), 2)}')"
      ],
      "metadata": {
        "colab": {
          "base_uri": "https://localhost:8080/"
        },
        "id": "DW1UnAQC2ckv",
        "outputId": "d0042a18-1b5a-41be-c567-ae8d2244da41"
      },
      "execution_count": null,
      "outputs": [
        {
          "output_type": "stream",
          "name": "stdout",
          "text": [
            "O percentual de homens é de 49.45\n",
            "O percentual de mulheres é de 50.55\n"
          ]
        }
      ]
    },
    {
      "cell_type": "code",
      "source": [
        "#tipos de cardíacos\n",
        "freq_s = 0\n",
        "freq_p = 0\n",
        "freq_n = 0\n",
        "\n",
        "for i in CARDIACO:\n",
        "  if i == 'S':\n",
        "    freq_s = freq_s + 1\n",
        "  elif i == 'P':\n",
        "    freq_p = freq_p + 1\n",
        "  else:\n",
        "    freq_n = freq_n + 1\n",
        "print(f'O percentual de pessoas com problemas cardíacos é de:{round((freq_s/2000*100),2)}')\n",
        "print(f'O percentual de pessoas com tendências a ter problemas cardíacos é de:{round((freq_p/2000*100),2)}')\n",
        "print(f'O percentual de pessoas com sem problemas cardíacs é de:{round((freq_n/2000*100),2)}')"
      ],
      "metadata": {
        "colab": {
          "base_uri": "https://localhost:8080/"
        },
        "id": "pj13c2w53Q7u",
        "outputId": "5bd385fd-20a1-4c71-9113-d0596a1bb7ad"
      },
      "execution_count": null,
      "outputs": [
        {
          "output_type": "stream",
          "name": "stdout",
          "text": [
            "O percentual de pessoas com problemas cardíacos é de:4.4\n",
            "O percentual de pessoas com tendências a ter problemas cardíacos é de:33.95\n",
            "O percentual de pessoas com sem problemas cardíacs é de:61.65\n"
          ]
        }
      ]
    },
    {
      "cell_type": "markdown",
      "source": [
        "# **Análise Final**\n",
        "\n",
        "É uma população com estatura normal (1,75m) e com peso médio elevado para altura. O IMC médio (29,35) está no nível de execesso de peso (pré-obesidade 25,00 – 29,99). 4,4% das pessoas apresentam problemas cardíacos, enquanto 33,95% apesentam tendências a ter e 61,65% não tem tendências a ter problemas cardíacos."
      ],
      "metadata": {
        "id": "NyRM6eph44ni"
      }
    }
  ]
}